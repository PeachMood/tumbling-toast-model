{
 "cells": [
  {
   "cell_type": "code",
   "execution_count": 2,
   "metadata": {},
   "outputs": [
    {
     "name": "stdout",
     "output_type": "stream",
     "text": [
      "Defaulting to user installation because normal site-packages is not writeable\n",
      "Requirement already satisfied: mpmath in /home/ann/.local/lib/python3.10/site-packages (1.3.0)\n",
      "Note: you may need to restart the kernel to use updated packages.\n",
      "Defaulting to user installation because normal site-packages is not writeable\n",
      "Requirement already satisfied: sympy in /home/ann/.local/lib/python3.10/site-packages (1.11.1)\n",
      "Requirement already satisfied: mpmath>=0.19 in /home/ann/.local/lib/python3.10/site-packages (from sympy) (1.3.0)\n",
      "Note: you may need to restart the kernel to use updated packages.\n",
      "Defaulting to user installation because normal site-packages is not writeable\n",
      "Requirement already satisfied: numpy in /usr/local/lib/python3.10/dist-packages (1.23.4)\n",
      "Note: you may need to restart the kernel to use updated packages.\n",
      "Defaulting to user installation because normal site-packages is not writeable\n",
      "Requirement already satisfied: scipy in /home/ann/.local/lib/python3.10/site-packages (1.10.1)\n",
      "Requirement already satisfied: numpy<1.27.0,>=1.19.5 in /usr/local/lib/python3.10/dist-packages (from scipy) (1.23.4)\n",
      "Note: you may need to restart the kernel to use updated packages.\n",
      "Defaulting to user installation because normal site-packages is not writeable\n",
      "Requirement already satisfied: matplotlib in /home/ann/.local/lib/python3.10/site-packages (3.7.1)\n",
      "Requirement already satisfied: fonttools>=4.22.0 in /home/ann/.local/lib/python3.10/site-packages (from matplotlib) (4.39.3)\n",
      "Requirement already satisfied: pillow>=6.2.0 in /usr/lib/python3/dist-packages (from matplotlib) (9.0.1)\n",
      "Requirement already satisfied: kiwisolver>=1.0.1 in /home/ann/.local/lib/python3.10/site-packages (from matplotlib) (1.4.4)\n",
      "Requirement already satisfied: numpy>=1.20 in /usr/local/lib/python3.10/dist-packages (from matplotlib) (1.23.4)\n",
      "Requirement already satisfied: packaging>=20.0 in /home/ann/.local/lib/python3.10/site-packages (from matplotlib) (23.1)\n",
      "Requirement already satisfied: python-dateutil>=2.7 in /home/ann/.local/lib/python3.10/site-packages (from matplotlib) (2.8.2)\n",
      "Requirement already satisfied: pyparsing>=2.3.1 in /usr/lib/python3/dist-packages (from matplotlib) (2.4.7)\n",
      "Requirement already satisfied: cycler>=0.10 in /home/ann/.local/lib/python3.10/site-packages (from matplotlib) (0.11.0)\n",
      "Requirement already satisfied: contourpy>=1.0.1 in /home/ann/.local/lib/python3.10/site-packages (from matplotlib) (1.0.7)\n",
      "Requirement already satisfied: six>=1.5 in /usr/lib/python3/dist-packages (from python-dateutil>=2.7->matplotlib) (1.16.0)\n",
      "Note: you may need to restart the kernel to use updated packages.\n"
     ]
    }
   ],
   "source": [
    "# Устанавливаем зависимости для математических вычислений\n",
    "%pip install mpmath\n",
    "%pip install sympy\n",
    "%pip install numpy\n",
    "%pip install scipy\n",
    "%pip install matplotlib\n",
    "%matplotlib inline"
   ]
  },
  {
   "cell_type": "code",
   "execution_count": 3,
   "metadata": {},
   "outputs": [],
   "source": [
    "## Импортируем необходимые пакеты\n",
    "import math as m\n",
    "import sympy as sp\n",
    "import numpy as np\n",
    "import scipy.integrate as spi\n",
    "import scipy.optimize as spo\n",
    "import matplotlib.pyplot as plt\n",
    "from IPython.display import display"
   ]
  },
  {
   "cell_type": "code",
   "execution_count": 41,
   "metadata": {},
   "outputs": [],
   "source": [
    "## Определяем переменные для формул\n",
    "\n",
    "# Функция для вывода равенств\n",
    "def print_equation(left, right):\n",
    "    eq = sp.Eq(left, right)\n",
    "    display(eq)\n",
    "\n",
    "# Константы\n",
    "g, mus, mud = sp.symbols('g mu_s mu_d')\n",
    "\n",
    "# Параметры\n",
    "a, h, d, phi, t = sp.symbols('a h d phi t')\n",
    "\n",
    "# Вспомогательные переменные\n",
    "n, A, B, C = sp.symbols('n A B C')\n",
    "\n",
    "# Функции\n",
    "r, dr, d2r = sp.symbols(\"r r' r''\")\n",
    "dphi, d2phi = sp.symbols(\"\\dot{\\phi}^2 {\\dot{\\phi}^2}'\")\n",
    "\n",
    "# Начальные условия\n",
    "r0, dr0 = sp.symbols(\"r_0 r'_0\")\n",
    "phi0, dphi0 = sp.symbols('phi_0 \\dot{\\phi_0}^2')\n",
    "\n",
    "# Значения функций и переменных в момент, когда бутерброд соскальзывает со стола\n",
    "rd, drd = sp.symbols(\"r_d r'_d\")\n",
    "yd, dyd = sp.symbols('y_d \\dot{y_d}')\n",
    "phid, dphid, dphid2 = sp.symbols(\"phi_d \\dot{\\phi_d} \\dot{\\phi_d}^2\")\n",
    "\n",
    "# Угол, под которым упадет бутерброд \n",
    "phit = sp.Symbol('phi_t')"
   ]
  },
  {
   "cell_type": "code",
   "execution_count": 30,
   "metadata": {},
   "outputs": [
    {
     "name": "stdout",
     "output_type": "stream",
     "text": [
      "\n",
      "Вспомогательные переменные:\n"
     ]
    },
    {
     "data": {
      "text/latex": [
       "$\\displaystyle A = \\frac{a^{2}}{a^{2} + r^{2}}$"
      ],
      "text/plain": [
       "Eq(A, a**2/(a**2 + r**2))"
      ]
     },
     "metadata": {},
     "output_type": "display_data"
    },
    {
     "data": {
      "text/latex": [
       "$\\displaystyle B = \\mu_{d} + \\frac{r r'}{a^{2}}$"
      ],
      "text/plain": [
       "Eq(B, mu_d + r*r'/a**2)"
      ]
     },
     "metadata": {},
     "output_type": "display_data"
    },
    {
     "data": {
      "text/latex": [
       "$\\displaystyle C = \\frac{2 a^{2} r'}{a^{2} + r^{2}}$"
      ],
      "text/plain": [
       "Eq(C, 2*a**2*r'/(a**2 + r**2))"
      ]
     },
     "metadata": {},
     "output_type": "display_data"
    },
    {
     "data": {
      "text/latex": [
       "$\\displaystyle n = - \\frac{2 \\dot{\\phi}^2 a^{2} r'}{a^{2} + r^{2}} + \\frac{a^{2} g \\cos{\\left(\\phi \\right)}}{a^{2} + r^{2}}$"
      ],
      "text/plain": [
       "Eq(n, -2*\\dot{\\phi}^2*a**2*r'/(a**2 + r**2) + a**2*g*cos(phi)/(a**2 + r**2))"
      ]
     },
     "metadata": {},
     "output_type": "display_data"
    },
    {
     "name": "stdout",
     "output_type": "stream",
     "text": [
      "\n",
      "Cистема дифференциальных уравнений:\n"
     ]
    },
    {
     "data": {
      "text/latex": [
       "$\\displaystyle r'' = \\frac{- A B g \\cos{\\left(\\phi \\right)} + \\dot{\\phi}^2 \\left(B C + r\\right) + g \\sin{\\left(\\phi \\right)}}{\\dot{\\phi}^2}$"
      ],
      "text/plain": [
       "Eq(r'', (-A*B*g*cos(phi) + \\dot{\\phi}^2*(B*C + r) + g*sin(phi))/\\dot{\\phi}^2)"
      ]
     },
     "metadata": {},
     "output_type": "display_data"
    },
    {
     "data": {
      "text/latex": [
       "$\\displaystyle {\\dot{\\phi}^2}' = \\frac{- 2 \\dot{\\phi}^2 \\left(r r' + r' r''\\right) + 2 g \\left(r \\cos{\\left(\\phi \\right)} + r' \\sin{\\left(\\phi \\right)}\\right) - 2 \\mu_{d} n r}{a^{2} + r^{2} + r'^{2}}$"
      ],
      "text/plain": [
       "Eq({\\dot{\\phi}^2}', (-2*\\dot{\\phi}^2*(r*r' + r'*r'') + 2*g*(r*cos(phi) + r'*sin(phi)) - 2*mu_d*n*r)/(a**2 + r**2 + r'**2))"
      ]
     },
     "metadata": {},
     "output_type": "display_data"
    },
    {
     "name": "stdout",
     "output_type": "stream",
     "text": [
      "\n",
      "Начальные условия:\n"
     ]
    },
    {
     "data": {
      "text/latex": [
       "$\\displaystyle r_{0} = d$"
      ],
      "text/plain": [
       "Eq(r_0, d)"
      ]
     },
     "metadata": {},
     "output_type": "display_data"
    },
    {
     "data": {
      "text/latex": [
       "$\\displaystyle r'_{0} = 0$"
      ],
      "text/plain": [
       "Eq(r'_0, 0)"
      ]
     },
     "metadata": {},
     "output_type": "display_data"
    },
    {
     "data": {
      "text/latex": [
       "$\\displaystyle \\phi_{0} = \\operatorname{atan}{\\left(\\frac{\\mu_{s}}{3 d^{2} + 1} \\right)}$"
      ],
      "text/plain": [
       "Eq(phi_0, atan(mu_s/(3*d**2 + 1)))"
      ]
     },
     "metadata": {},
     "output_type": "display_data"
    },
    {
     "data": {
      "text/latex": [
       "$\\displaystyle \\dot{\\phi_0}^2 = \\frac{2 d g \\sin{\\left(\\phi_{0} \\right)}}{a^{2} + d^{2}}$"
      ],
      "text/plain": [
       "Eq(\\dot{\\phi_0}^2, 2*d*g*sin(phi_0)/(a**2 + d**2))"
      ]
     },
     "metadata": {},
     "output_type": "display_data"
    }
   ],
   "source": [
    "## Определяем систему для вычисления угловой скорости\n",
    "\n",
    "# Значения вспомогательных переменных\n",
    "eq_a = pow(a, 2) / (pow(a, 2) + pow(r, 2))\n",
    "eq_b = (mud + (r * dr) / pow(a, 2))\n",
    "eq_c = 2 * dr * eq_a\n",
    "eq_n = g * sp.cos(phi) * eq_a - eq_c * dphi\n",
    "\n",
    "# Первое уравнение системы ОДУ\n",
    "eq_d2r = g * (sp.sin(phi) - B * A * sp.cos(phi)) - dphi * (d2r - r - C * B)\n",
    "eq_d2r = sp.solve(eq_d2r, d2r)[0]\n",
    "\n",
    "# Второе уравнение системы ОДУ\n",
    "eq_d2phi = 2 * (g * (r * sp.cos(phi) + sp.sin(phi) * dr) - dphi * (r * dr + dr * d2r) - mud * n * r) / (pow(a, 2) + pow(r, 2) + pow(dr, 2))\n",
    "\n",
    "# Начальные условия\n",
    "eq_phi0 = sp.atan(mus / (1 + 3 * pow(d, 2)))\n",
    "eq_dphi0 = g * 2 * d * sp.sin(phi0) / (pow(a, 2) + pow(d, 2))\n",
    "\n",
    "print('\\nВспомогательные переменные:')\n",
    "print_equation(A, eq_a)\n",
    "print_equation(B, eq_b)\n",
    "print_equation(C, eq_c)\n",
    "print_equation(n, eq_n)\n",
    "\n",
    "print('\\nCистема дифференциальных уравнений:')\n",
    "print_equation(d2r, eq_d2r)\n",
    "print_equation(d2phi, eq_d2phi)\n",
    "\n",
    "print('\\nНачальные условия:')\n",
    "print_equation(r0, d)\n",
    "print_equation(dr0, 0)\n",
    "print_equation(phi0, eq_phi0)\n",
    "print_equation(dphi0, eq_dphi0)\n"
   ]
  },
  {
   "cell_type": "code",
   "execution_count": 31,
   "metadata": {},
   "outputs": [
    {
     "name": "stdout",
     "output_type": "stream",
     "text": [
      "Уравнение угла соскальзывания:\n"
     ]
    },
    {
     "data": {
      "text/latex": [
       "$\\displaystyle g \\cos{\\left(\\phi_{d} \\right)} = 2 \\dot{\\phi_d}^2 r'_{d}$"
      ],
      "text/plain": [
       "Eq(g*cos(phi_d), 2*\\dot{\\phi_d}^2*r'_d)"
      ]
     },
     "metadata": {},
     "output_type": "display_data"
    }
   ],
   "source": [
    "## Определяем уравнение для вычисления угла, при котором\n",
    "## бутерброд соскальзнет со стола (n = 0)\n",
    "\n",
    "eq_left = g * sp.cos(phid)\n",
    "eq_right = 2 * drd * dphid2\n",
    "\n",
    "print(\"Уравнение угла соскальзывания:\")\n",
    "print_equation(eq_left, eq_right)"
   ]
  },
  {
   "cell_type": "code",
   "execution_count": 114,
   "metadata": {},
   "outputs": [
    {
     "name": "stdout",
     "output_type": "stream",
     "text": [
      "\n",
      "Координата центра масс:\n"
     ]
    },
    {
     "data": {
      "text/latex": [
       "$\\displaystyle y_{d} = - r_{d} \\sin{\\left(\\phi_{d} \\right)}$"
      ],
      "text/plain": [
       "Eq(y_d, -r_d*sin(phi_d))"
      ]
     },
     "metadata": {},
     "output_type": "display_data"
    },
    {
     "name": "stdout",
     "output_type": "stream",
     "text": [
      "\n",
      "Скорость движения центра масс:\n"
     ]
    },
    {
     "data": {
      "text/latex": [
       "$\\displaystyle \\dot{y_d} = - \\dot{\\phi_d} \\left(r'_{d} \\sin{\\left(\\phi_{d} \\right)} + r_{d} \\cos{\\left(\\phi_{d} \\right)}\\right)$"
      ],
      "text/plain": [
       "Eq(\\dot{y_d}, -\\dot{\\phi_d}*(r'_d*sin(phi_d) + r_d*cos(phi_d)))"
      ]
     },
     "metadata": {},
     "output_type": "display_data"
    },
    {
     "name": "stdout",
     "output_type": "stream",
     "text": [
      "\n",
      "Координата соприкасания бутерброда с полом:\n"
     ]
    },
    {
     "data": {
      "text/latex": [
       "$\\displaystyle h = \\dot{y_d} t - a \\left|{\\sin{\\left(\\dot{\\phi_d} t + \\phi_{d} \\right)}}\\right| - 4.9 t^{2} + y_{d}$"
      ],
      "text/plain": [
       "Eq(h, \\dot{y_d}*t - a*Abs(sin(\\dot{\\phi_d}*t + phi_d)) - 4.9*t**2 + y_d)"
      ]
     },
     "metadata": {},
     "output_type": "display_data"
    },
    {
     "name": "stdout",
     "output_type": "stream",
     "text": [
      "\n",
      "Угол, под которым упадет бутерброд\n"
     ]
    },
    {
     "data": {
      "text/latex": [
       "$\\displaystyle \\phi_{t} = \\dot{\\phi_d} t + \\phi_{d}$"
      ],
      "text/plain": [
       "Eq(phi_t, \\dot{\\phi_d}*t + phi_d)"
      ]
     },
     "metadata": {},
     "output_type": "display_data"
    }
   ],
   "source": [
    "## Определяем формулу для вычисления угла, под которым упадет бутерброд \n",
    "\n",
    "# Координата центра масс\n",
    "eq_yd = - rd * sp.sin(phid)\n",
    "\n",
    "# Скорость движения центра масс\n",
    "eq_dyd = - dphid * (drd * sp.sin(phid) + rd * sp.cos(phid))\n",
    "\n",
    "# Координата соприкасания бутерброда с полом\n",
    "eq_h = yd + dyd * t - 4.9 * pow(t, 2) - a * sp.Abs(sp.sin(phid + dphid * t))\n",
    "\n",
    "# Угол, под которым упадет бутерброд\n",
    "eq_phit = phid + dphid * t\n",
    "\n",
    "print('\\nКоордината центра масс:')\n",
    "print_equation(yd, eq_yd)\n",
    "print('\\nСкорость движения центра масс:')\n",
    "print_equation(dyd, eq_dyd)\n",
    "print('\\nКоордината соприкасания бутерброда с полом:')\n",
    "print_equation(h, eq_h)\n",
    "print('\\nУгол, под которым упадет бутерброд')\n",
    "print_equation(phit, eq_phit)"
   ]
  },
  {
   "cell_type": "code",
   "execution_count": 148,
   "metadata": {},
   "outputs": [],
   "source": [
    "# Математическая модель бутерброда с маслом\n",
    "class Toast:\n",
    "    def __init__(self):\n",
    "        self.g, self.mus, self.mud = 9.82, 0.32, 0.24\n",
    "\n",
    "    def init_conds(self):\n",
    "        # Параметры\n",
    "        g, mus = self.g, self.mus\n",
    "        a, d = self.a, self.d\n",
    "\n",
    "        # Начальные условия\n",
    "        r0 = d\n",
    "        dr0 = 0\n",
    "        phi0 = m.atan(mus / (3 * pow(d, 2) + 1))\n",
    "        dphi0 = 2 * d * g * m.sin(phi0) / (pow(a, 2) + pow(d, 2))\n",
    "\n",
    "        return [r0, dr0, dphi0]\n",
    "    \n",
    "    def create_system(self, phi, y):\n",
    "        # Параметры\n",
    "        g, mud, a = self.g, self.mus, self.a\n",
    "\n",
    "        # Неизвестные функции\n",
    "        r, dr, dphi = y\n",
    "\n",
    "        # Вспомогательные переменные\n",
    "        A = pow(a, 2) / (pow(a, 2) + pow(r, 2))\n",
    "        B = mud + (r * dr) / pow(a, 2)\n",
    "        C = 2 * dr * A\n",
    "        n = g * m.cos(phi) * A - dphi * C\n",
    "\n",
    "        # Дифференциальные уравнения\n",
    "        d2r\t= (dphi * (B * C + r) + g * m.sin(phi) - A * B * g * m.cos(phi)) / dphi\n",
    "        d2phi = (2 * g * (r * m.cos(phi) + dr * m.sin(phi)) - 2 * mud * n * r - 2 * dphi * (r * dr + dr * d2r)) / (pow(a, 2) + pow(r, 2) + pow(dr, 2))\n",
    "\n",
    "        # Система f = (r', r'', phi')\n",
    "        f = [dr, d2r, d2phi]\n",
    "    \n",
    "        return f\n",
    "    \n",
    "    def solve_system(self):\n",
    "        # Начальные условия\n",
    "        y0 = self.init_conds()\n",
    "\n",
    "        # Интервал интегрирования\n",
    "        phi = [0.0, 2.0 * m.pi]\n",
    "\n",
    "        # Решение системы\n",
    "        res = spi.solve_ivp(self.create_system, phi, y0, dense_output=True)\n",
    "\n",
    "        # Получаем функции из решения\n",
    "        r = lambda phi: res.sol(phi)[0]\n",
    "        dr = lambda phi: res.sol(phi)[1]\n",
    "        dphi = lambda phi: res.sol(phi)[2]\n",
    "\n",
    "        return [r, dr, dphi]\n",
    "    \n",
    "    def find_detach_angle(self):\n",
    "        # Параметры\n",
    "        g, dr, dphi = self.g, self.dr, self.dphi\n",
    "\n",
    "        # Уравнение\n",
    "        phid0 = 0.8\n",
    "        eq_phid = lambda phid: g * m.cos(phid) - 2 * dr(phid) * dphi(phid)\n",
    "\n",
    "        # Решение уравнения \n",
    "        return spo.fsolve(eq_phid, phid0)\n",
    "\n",
    "    def find_total_angle(self):\n",
    "        # Параметры\n",
    "        g, a, h = self.g, self.a, self.h\n",
    "        r, dr = self.r, self.dr\n",
    "        phid, dphi = self.phid, self.dphi\n",
    "\n",
    "        # Вспомогательные переменные\n",
    "        yd = - r(phid) * m.sin(phid)\n",
    "        dyd = - m.sqrt(dphi(phid)) * (dr(phid) * m.sin(phid) + r(phid) * m.cos(phid))\n",
    "\n",
    "        # Уравнение\n",
    "        t0 = 0\n",
    "        eq_t = lambda t: h - yd + dyd * t - g * pow(t, 2) / 2 - a * abs(m.sin(phid + m.sqrt(dphi(phid)) * t))\n",
    "        # Решение уравнения\n",
    "        t = spo.fsolve(eq_t, t0)\n",
    "\n",
    "        # Угол под которым упадет бутерброд\n",
    "        return phid + m.sqrt(dphi(phid)) * t - 0.5\n",
    "    \n",
    "    def tumble(self, length, height, overhang):\n",
    "        self.a, self.h, self.d = length / (2 * m.sqrt(3)), height, overhang\n",
    "        self.r, self.dr, self.dphi = self.solve_system()\n",
    "        self.phid = self.find_detach_angle()\n",
    "        self.phit = self.find_total_angle()\n",
    "        return self.phit"
   ]
  },
  {
   "cell_type": "code",
   "execution_count": 150,
   "metadata": {},
   "outputs": [
    {
     "data": {
      "text/plain": [
       "[<matplotlib.lines.Line2D at 0x7f40fbc2f6a0>]"
      ]
     },
     "execution_count": 150,
     "metadata": {},
     "output_type": "execute_result"
    },
    {
     "data": {
      "image/png": "[encoded data removed]",
      "text/plain": [
       "<Figure size 700x400 with 1 Axes>"
      ]
     },
     "metadata": {},
     "output_type": "display_data"
    }
   ],
   "source": [
    "x = np.linspace(0.004, 0.03)\n",
    "y = []\n",
    "\n",
    "## Зависимость скорости центра масс от d\n",
    "for i in x:\n",
    "    toast = Toast()\n",
    "    phit = toast.tumble(0.102, 0.72, i)\n",
    "    y.append(phit)\n",
    "\n",
    "fig = plt.figure(figsize=(7, 4))\n",
    "ax = fig.add_subplot()\n",
    "ax.set_ylim([0, 7])\n",
    "ax.plot(x, y)"
   ]
  }
 ],
 "metadata": {
  "kernelspec": {
   "display_name": "Python 3",
   "language": "python",
   "name": "python3"
  },
  "language_info": {
   "codemirror_mode": {
    "name": "ipython",
    "version": 3
   },
   "file_extension": ".py",
   "mimetype": "text/x-python",
   "name": "python",
   "nbconvert_exporter": "python",
   "pygments_lexer": "ipython3",
   "version": "3.10.6"
  },
  "orig_nbformat": 4
 },
 "nbformat": 4,
 "nbformat_minor": 2
}
